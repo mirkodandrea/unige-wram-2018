{
 "cells": [
  {
   "cell_type": "code",
   "execution_count": 1,
   "metadata": {},
   "outputs": [
    {
     "name": "stdout",
     "output_type": "stream",
     "text": [
      "Pixiedust database opened successfully\n"
     ]
    },
    {
     "data": {
      "text/html": [
       "\n",
       "        <div style=\"margin:10px\">\n",
       "            <a href=\"https://github.com/ibm-watson-data-lab/pixiedust\" target=\"_new\">\n",
       "                <img src=\"https://github.com/ibm-watson-data-lab/pixiedust/raw/master/docs/_static/pd_icon32.png\" style=\"float:left;margin-right:10px\"/>\n",
       "            </a>\n",
       "            <span>Pixiedust version 1.1.14</span>\n",
       "        </div>\n",
       "        "
      ],
      "text/plain": [
       "<IPython.core.display.HTML object>"
      ]
     },
     "metadata": {},
     "output_type": "display_data"
    },
    {
     "name": "stdout",
     "output_type": "stream",
     "text": [
      "Unable to check latest version <urlopen error [Errno -3] Temporary failure in name resolution>\n"
     ]
    }
   ],
   "source": [
    "from itertools import chain\n",
    "import numpy as np\n",
    "from numpy.random import random\n",
    "from matplotlib import pyplot as plt\n",
    "import numpy as np\n",
    "import matplotlib.pyplot as plt\n",
    "\n",
    "from numpy.random import random\n",
    "from matplotlib import animation\n",
    "from matplotlib import colors\n",
    "import rasterio as rio\n",
    "\n",
    "# set the default figure size for all the plots\n",
    "plt.rcParams[\"figure.figsize\"] = [16,9]\n",
    "plt.style.use('ggplot')\n",
    "plt.ion()"
   ]
  },
  {
   "cell_type": "code",
   "execution_count": 2,
   "metadata": {},
   "outputs": [],
   "source": [
    "'''\n",
    "Vegetation update rules: \n",
    "    (1) after 3 years without fires in herbaceous areas, the vegetation cover changes randomly \n",
    "        to one of the neighbourhood vegetation classes; \n",
    "    (2) in the shrub areas, the same process occurs with a time lapse of 10 years; \n",
    "    (3) a burned area previously not vegetated by shrub or grass becomes occupied by grass \n",
    "        with probability 0.7, shrub with probability 0.2 or by the previous vegetation\n",
    "        class with probability 0.1\n",
    "'''\n",
    "\n",
    "\n",
    "# simulation constants\n",
    "NEIGHBOROOD = np.array(((-1,0), (0,-1), (0, 1),  (1,0) ))\n",
    "EMPTY, TREE, FIRE = 0, 1, 2\n",
    "\n",
    "NOVEG, GRASS, SHRUBS, CONIFERS, OAKS, BROADLEAVES = 0, 1, 2, 3, 4, 5\n",
    "\n",
    "grass_evolution_time = 3\n",
    "shrubs_evolution_time = 10\n",
    "grass_regrowth_prob =  0.7\n",
    "shrubs_regrowth_prob = 0.2\n",
    "\n",
    "# probability of a new fire\n",
    "f = 4.325e-3\n",
    "# Probability of vegetation growth on an empty cell\n",
    "p = np.array([0, 0.75, 0.3, 0.2, 0.25, 0.1])\n",
    "# Probability of vegetation propagation\n",
    "g = np.array([0, 0.625, 0.4873, 0.3, 0.375, 0.075])"
   ]
  },
  {
   "cell_type": "code",
   "execution_count": 3,
   "metadata": {
    "pixiedust": {
     "displayParams": {}
    }
   },
   "outputs": [],
   "source": [
    "def grow(X, AGE, SPECIES):\n",
    "    \"\"\"Iterate the forest according to the forest-fire rules.\"\"\"\n",
    "\n",
    "    # The boundary of the forest is always empty, so only consider cells\n",
    "    # indexed from 1 to nx-2, 1 to ny-2\n",
    "    WX = X[1:-1, 1:-1] \n",
    "    WAGE = AGE[1:-1, 1:-1]\n",
    "    WSPECIES_new = SPECIES[1:-1, 1:-1]\n",
    "    WSPECIES =  WSPECIES_new.copy()\n",
    "    \n",
    "  \n",
    "    # fire from the previous iteration becomes empty\n",
    "    empty_mask = (WX == FIRE)\n",
    "    WX[empty_mask] = EMPTY\n",
    "    \n",
    "    # update unburned pixel age\n",
    "    WAGE[~empty_mask] += 1\n",
    "    WAGE[empty_mask] = 0\n",
    "    \n",
    "    # create new trees\n",
    "    empty_species = WSPECIES[empty_mask]\n",
    "    tree_mask = empty_mask.copy()\n",
    "    tree_mask[empty_mask] = random(empty_species.shape) < p[empty_species]\n",
    "    WX[tree_mask] = TREE\n",
    "    # set age to zero if new tree\n",
    "    WAGE[tree_mask] = 0\n",
    "\n",
    "    # on new trees, we are going to update vegetation according to the 3rd rule\n",
    "    new_grass_mask = tree_mask & (random(WX.shape) < grass_regrowth_prob)\n",
    "    WSPECIES_new[new_grass_mask] = GRASS\n",
    "\n",
    "    new_shrubs_mask = tree_mask & (random(WX.shape) < shrubs_regrowth_prob)\n",
    "    WSPECIES_new[new_shrubs_mask] = SHRUBS\n",
    "\n",
    "    # evolve veg\n",
    "    grass_mask = WSPECIES==GRASS\n",
    "    shrubs_mask = WSPECIES==SHRUBS   \n",
    "\n",
    "    evolve_grass_mask = (WAGE >= grass_evolution_time) & grass_mask\n",
    "    evolve_shrubs_mask = (WAGE >= shrubs_evolution_time) & shrubs_mask    \n",
    "    \n",
    "    evolve_coords = zip(*np.where((evolve_grass_mask | evolve_shrubs_mask)))\n",
    "\n",
    "\n",
    "    mask_zero = (WSPECIES == NOVEG)\n",
    "    WX[mask_zero] = EMPTY\n",
    "    WAGE[mask_zero] = 0\n",
    "    \n",
    "    \n",
    "    for RC in evolve_coords:\n",
    "        r, c = RC\n",
    "        N = RC + NEIGHBOROOD\n",
    "        shape_filter =  (N[:,0]>=0) & (N[:,0]<WSPECIES.shape[0]) & \\\n",
    "            (N[:,1]>=0) & (N[:,1]<WSPECIES.shape[1])\n",
    "        N = N[shape_filter, :]\n",
    "        species_around = SPECIES[N[:,0], N[:,1]]\n",
    "        ev_species = species_around[species_around>WSPECIES[r,c]]\n",
    "\n",
    "        if len(ev_species)>0:\n",
    "            new_specie = np.random.choice(ev_species)\n",
    "            WSPECIES_new[r, c] = new_specie\n",
    "            AGE[r, c] = 0\n",
    "\n",
    "    WSPECIES[:,:] = WSPECIES_new   \n",
    "    \n",
    "    \n",
    "def ignite(X, AGE, SPECIES):\n",
    "    \"\"\"Iterate the forest according to the forest-fire rules.\"\"\"\n",
    "    WX = X[1:-1, 1:-1] \n",
    "    WSPECIES = SPECIES[1:-1, 1:-1]  \n",
    "    \n",
    "    # create new ignitions\n",
    "    fire_mask = ((WX == TREE) & (random((WX.shape)) < f))\n",
    "    for specie in (GRASS, SHRUBS, CONIFERS, OAKS, BROADLEAVES):\n",
    "        veg_fire_mask = fire_mask & (random(WX.shape) <= g[specie])\n",
    "        WX[veg_fire_mask] = FIRE\n",
    "\n",
    "\n",
    "\n",
    "def burn(X, AGE, SPECIES):\n",
    "    \"\"\"propagate the ignited cells, and return the area burned for every fire\"\"\"\n",
    "    # empty list that will contain the burned area of each fire in this iteration\n",
    "    burned = []\n",
    "    \n",
    "    # create a list of r,c location where we have an ignited cell\n",
    "    fires = list(zip(*np.where(X==FIRE)))\n",
    "    \n",
    "    for r, c in (fires):\n",
    "        # at least 1 pixel was burned\n",
    "        pixel_burnt = 1\n",
    "        \n",
    "        # create a list of burning cells for this fire\n",
    "        burning_cells = [(r, c)]\n",
    "        \n",
    "        while len(burning_cells)>0:\n",
    "            # extract the first element\n",
    "            r, c = burning_cells.pop(0)\n",
    "            \n",
    "            # iterate the neighboorood of the extracted cell\n",
    "            for dr,dc in NEIGHBOROOD:\n",
    "                nr, nc = r+dr, c+dc\n",
    "                \n",
    "                if 0<= nr < X.shape[0] and \\\n",
    "                   0<= nc < X.shape[1] and \\\n",
    "                    X[nr, nc] == TREE:\n",
    "                    specie = SPECIES[nr, nc]\n",
    "                    # if it is vegetated, burn it according to probability of spread\n",
    "                    if random() < g[specie]:\n",
    "                        X[nr, nc] = FIRE\n",
    "                        # append cell to the list of burning cell of this fire\n",
    "                        burning_cells.append((nr, nc))\n",
    "                        #increase the burned area for this fire\n",
    "                        pixel_burnt += 1\n",
    "        \n",
    "        # save n of burned pixels in the list\n",
    "        burned.append(pixel_burnt)\n",
    "    \n",
    "\n",
    "    return burned"
   ]
  },
  {
   "cell_type": "code",
   "execution_count": 4,
   "metadata": {
    "pixiedust": {
     "displayParams": {}
    }
   },
   "outputs": [
    {
     "data": {
      "text/html": [
       "<style type=\"text/css\">.pd_warning{display:none;}</style><div class=\"pd_warning\"><em>Hey, there's something awesome here! To see it, open this notebook outside GitHub, in a viewer like Jupyter</em></div>"
      ],
      "text/plain": [
       "<IPython.core.display.HTML object>"
      ]
     },
     "metadata": {
      "pixieapp_metadata": null
     },
     "output_type": "display_data"
    }
   ],
   "source": [
    "# Forest size (number of cells in x and y directions).\n",
    "\n",
    "with rio.open('datasets/land_cover.tif') as src:\n",
    "    band = src.read(1).astype('int')\n",
    "    \n",
    "#print(band.shape)\n",
    "#plt.imshow(band)\n",
    "\n",
    "# Initialize the forest grid.\n",
    "X  = np.ones((band.shape))\n",
    "AGE = np.random.randint(0, 10, band.shape)\n",
    "\n",
    "SPECIES = band\n",
    "SPECIES[SPECIES==-1]= NOVEG\n",
    "SPECIES_ORIG = SPECIES.copy()\n",
    "\n",
    "mask=np.where(SPECIES==NOVEG)\n",
    "X[SPECIES==NOVEG] = EMPTY\n",
    "\n",
    "\n",
    "#burned_list = run_simulation(X, AGE, SPECIES, 100, grow, ignite, burn)\n",
    "bounds = [EMPTY, TREE, FIRE, 4]\n",
    "colors_list = [(0.94, 0.94, 0.94), (0,1,0), (1,0,0), 'orange']\n",
    "cmap = colors.ListedColormap(colors_list)\n",
    "colors.BoundaryNorm(bounds, cmap.N)\n",
    "colors_species = [(0.94, 0.94, 0.94),(1, 0.9, 0.5),(0.8,0.8,0),(0.4,0.6,0),(0,0.6,0.2),(0,0.6,0)]\n",
    "cmap_species = colors.ListedColormap(colors_species)\n",
    "colors_age = [(0.94, 0.94, 0.94),(1, 0.9, 0.5),(0.8,0.8,0),(0.4,0.6,0),(0,0.6,0.2),(0,0.6,0)]\n",
    "cmap_age = colors.ListedColormap(colors_age)\n",
    "colors.BoundaryNorm(bounds, cmap.N)\n",
    "\n",
    "timeline = []\n",
    "for i in range(0, 30):\n",
    "    for ix, v in enumerate((GRASS, SHRUBS, CONIFERS, OAKS, BROADLEAVES)):\n",
    "        if len(timeline)<=ix:\n",
    "            timeline.append([])\n",
    "        timeline[ix].append(np.sum(SPECIES==v))\n",
    "        \n",
    "    print(i)\n",
    "    grow(X, AGE, SPECIES)\n",
    "    ignite(X, AGE, SPECIES)\n",
    "    burn(X, AGE, SPECIES)\n",
    "    plt.figure(figsize=(8,12))\n",
    "    plt.subplot(1,3,1)\n",
    "    plt.imshow(X,cmap=cmap)\n",
    "    plt.xlabel('X')\n",
    "    plt.clim(0,3)\n",
    "    plt.subplot(1,3,2)\n",
    "    plt.imshow(AGE, cmap=cmap_age)\n",
    "    plt.xlabel('Age')\n",
    "    plt.clim(0,50)    \n",
    "    plt.subplot(1,3,3)\n",
    "    plt.imshow(SPECIES, cmap=cmap_species)\n",
    "    plt.xlabel('Species')\n",
    "    plt.clim(0,5)\n",
    "    plt.show()"
   ]
  },
  {
   "cell_type": "code",
   "execution_count": 5,
   "metadata": {},
   "outputs": [
    {
     "ename": "NameError",
     "evalue": "name 'timeline' is not defined",
     "output_type": "error",
     "traceback": [
      "\u001b[0;31m---------------------------------------------------------------------------\u001b[0m",
      "\u001b[0;31mNameError\u001b[0m                                 Traceback (most recent call last)",
      "\u001b[0;32m<ipython-input-5-621d3d785fb7>\u001b[0m in \u001b[0;36m<module>\u001b[0;34m\u001b[0m\n\u001b[0;32m----> 1\u001b[0;31m \u001b[0mplt\u001b[0m\u001b[0;34m.\u001b[0m\u001b[0mplot\u001b[0m\u001b[0;34m(\u001b[0m\u001b[0mnp\u001b[0m\u001b[0;34m.\u001b[0m\u001b[0marray\u001b[0m\u001b[0;34m(\u001b[0m\u001b[0mtimeline\u001b[0m\u001b[0;34m)\u001b[0m\u001b[0;34m.\u001b[0m\u001b[0mT\u001b[0m\u001b[0;34m)\u001b[0m\u001b[0;34m\u001b[0m\u001b[0m\n\u001b[0m\u001b[1;32m      2\u001b[0m \u001b[0mplt\u001b[0m\u001b[0;34m.\u001b[0m\u001b[0mlegend\u001b[0m\u001b[0;34m(\u001b[0m\u001b[0mtuple\u001b[0m\u001b[0;34m(\u001b[0m\u001b[0;34m'GRASS, SHRUBS, CONIFERS, OAKS, BROADLEAVES'\u001b[0m\u001b[0;34m.\u001b[0m\u001b[0msplit\u001b[0m\u001b[0;34m(\u001b[0m\u001b[0;34m', '\u001b[0m\u001b[0;34m)\u001b[0m\u001b[0;34m)\u001b[0m\u001b[0;34m)\u001b[0m\u001b[0;34m\u001b[0m\u001b[0m\n",
      "\u001b[0;31mNameError\u001b[0m: name 'timeline' is not defined"
     ]
    }
   ],
   "source": [
    "plt.plot(np.array(timeline).T)\n",
    "plt.legend(tuple('GRASS, SHRUBS, CONIFERS, OAKS, BROADLEAVES'.split(', ')))"
   ]
  },
  {
   "cell_type": "code",
   "execution_count": null,
   "metadata": {},
   "outputs": [],
   "source": []
  }
 ],
 "metadata": {
  "kernelspec": {
   "display_name": "Python 3",
   "language": "python",
   "name": "python3"
  },
  "language_info": {
   "codemirror_mode": {
    "name": "ipython",
    "version": 3
   },
   "file_extension": ".py",
   "mimetype": "text/x-python",
   "name": "python",
   "nbconvert_exporter": "python",
   "pygments_lexer": "ipython3",
   "version": "3.6.6"
  }
 },
 "nbformat": 4,
 "nbformat_minor": 2
}
