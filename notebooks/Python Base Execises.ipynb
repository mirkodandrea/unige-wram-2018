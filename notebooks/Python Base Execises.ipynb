{
 "cells": [
  {
   "cell_type": "markdown",
   "metadata": {},
   "source": [
    "# Python base exercises"
   ]
  },
  {
   "cell_type": "markdown",
   "metadata": {},
   "source": [
    "## Exercise 1:\n",
    "\n",
    "- Split the string by lines.\n",
    "- Find every word that starts with an uppercase\n",
    "- Using a dictonary, print the word count for each word, regardless of the case"
   ]
  },
  {
   "cell_type": "code",
   "execution_count": null,
   "metadata": {},
   "outputs": [],
   "source": [
    "string = \"\"\"\n",
    "Python, from the Greek word (πύθων/πύθωνας), is a genus of nonvenomous Pythonidae found in Africa and Asia. \n",
    "Until recently, seven extant species were recognised; however, three subspecies have been promoted and a new species recognised. \n",
    "A member of this genus, P. reticulatus, is among the longest snake species and extant reptiles in the world.\n",
    "\"\"\""
   ]
  },
  {
   "cell_type": "markdown",
   "metadata": {},
   "source": [
    "## Execise 2:\n",
    "- Load the csv file from disk **../datasets/incendi_liguria.csv**\n",
    "- Print the first line\n",
    "- Iterate the values of the first line, print them in uppercase\n",
    "- Close the file\n"
   ]
  },
  {
   "cell_type": "code",
   "execution_count": 29,
   "metadata": {},
   "outputs": [
    {
     "name": "stdout",
     "output_type": "stream",
     "text": [
      "['PassengerId,Survived,Pclass,Name,Sex,Age,SibSp,Parch,Ticket,Fare,Cabin,Embarked\\n', '1,0,3,\"Braund, Mr. Owen Harris\",male,22,1,0,A/5 21171,7.25,,S\\n', '2,1,1,\"Cumings, Mrs. John Bradley (Florence Briggs Thayer)\",female,38,1,0,PC 17599,71.2833,C85,C\\n']\n"
     ]
    }
   ],
   "source": [
    "f = open('datasets/titanic.csv')\n",
    "lines = f.readlines()\n",
    "print(lines[:3])\n",
    "# your code in here\n",
    "# line = f. ...\n",
    "# print(line)\n",
    "# columns = line ...\n",
    "# for c in columns:\n",
    "#     ...\n",
    "f.close()"
   ]
  },
  {
   "cell_type": "markdown",
   "metadata": {},
   "source": [
    "## Exercise 3:\n",
    "\n",
    "- Load the csv file from disk **../datasets/incendi_liguria.csv**\n",
    "- Read all the lines\n",
    "- Iterate the lines:\n",
    "    - the first line is the header, it will be split using the comma character and each value will be saved in the list **header**\n",
    "    - the other lines are the values of the rows. Every row should be splitted, the value converted from string to number if possible and the values should be saved in the **values** list of lists\n"
   ]
  },
  {
   "cell_type": "code",
   "execution_count": 28,
   "metadata": {},
   "outputs": [],
   "source": [
    "f = open('datasets/titanic.csv')\n",
    "# your code in here\n",
    "\n",
    "f.close()"
   ]
  },
  {
   "cell_type": "markdown",
   "metadata": {},
   "source": [
    "## Exercise 4:\n",
    "\n",
    "Define the function read_csv using the code from Exercise 2 as base. The function will:\n",
    "- open a file passed as argument\n",
    "- return the values **header** e **values**\n"
   ]
  },
  {
   "cell_type": "code",
   "execution_count": 23,
   "metadata": {},
   "outputs": [],
   "source": [
    "# def read_csv"
   ]
  },
  {
   "cell_type": "markdown",
   "metadata": {},
   "source": [
    "## Exercise 5:\n",
    "\n",
    "Read the example file from Exercise 3\n",
    "Compute the min, max, sum and mean for the columns 'Age', 'Fare'. Print the values as :\n",
    "\n",
    "    column -> mean: value, max: value, min: value, sum: value"
   ]
  },
  {
   "cell_type": "code",
   "execution_count": 24,
   "metadata": {},
   "outputs": [],
   "source": [
    "# header, values = read_csv(..."
   ]
  }
 ],
 "metadata": {
  "kernelspec": {
   "display_name": "Python 3",
   "language": "python",
   "name": "python3"
  },
  "language_info": {
   "codemirror_mode": {
    "name": "ipython",
    "version": 3
   },
   "file_extension": ".py",
   "mimetype": "text/x-python",
   "name": "python",
   "nbconvert_exporter": "python",
   "pygments_lexer": "ipython3",
   "version": "3.7.0"
  }
 },
 "nbformat": 4,
 "nbformat_minor": 2
}
